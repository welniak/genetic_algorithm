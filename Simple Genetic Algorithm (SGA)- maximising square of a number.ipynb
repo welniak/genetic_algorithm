{
 "cells": [
  {
   "cell_type": "code",
   "execution_count": 30,
   "metadata": {},
   "outputs": [],
   "source": [
    "import random"
   ]
  },
  {
   "cell_type": "code",
   "execution_count": 31,
   "metadata": {},
   "outputs": [],
   "source": [
    "class GenotypeDecoder:\n",
    "    \n",
    "    def decode(self, genotype: str):\n",
    "        return int(genotype, 2) ** 2"
   ]
  },
  {
   "cell_type": "code",
   "execution_count": 32,
   "metadata": {},
   "outputs": [],
   "source": [
    "class Individual:\n",
    "        \n",
    "    def __init__(self, genotype: str, fitness: int):\n",
    "        self.genotype = genotype\n",
    "        self.fitness = fitness\n",
    "        \n",
    "    def __repr__(self):\n",
    "        return \"Individual/genotype = \" + self.genotype + \" Fitness = \" + str(self.fitness)"
   ]
  },
  {
   "cell_type": "code",
   "execution_count": 33,
   "metadata": {},
   "outputs": [],
   "source": [
    "class FitnessEvaluator:\n",
    "    \n",
    "    def __init__(self, genotype_decoder: GenotypeDecoder):\n",
    "        self.genotype_decoder = genotype_decoder\n",
    "        \n",
    "    def evaluate(self, genotype: str):\n",
    "        return self.genotype_decoder.decode(genotype)"
   ]
  },
  {
   "cell_type": "code",
   "execution_count": 34,
   "metadata": {},
   "outputs": [],
   "source": [
    "class IndividualFactory:\n",
    "    \n",
    "    def __init__(self, genotype_length: int, fitness_evaluator: FitnessEvaluator):\n",
    "        self.genotype_length = genotype_length\n",
    "        self.fitness_evaluator = fitness_evaluator\n",
    "        # E.g. {:032b} to format a number on 32 bits with leading zeros\n",
    "        self.binary_string_format = '{:0' + str(self.genotype_length) + 'b}'\n",
    "    \n",
    "    def with_random_genotype(self):\n",
    "        genotype_max_value = 2 ** self.genotype_length\n",
    "        random_genotype = self.binary_string_format.format(random.randint(0, genotype_max_value))\n",
    "        fitness = self.fitness_evaluator.evaluate(random_genotype)\n",
    "        return Individual(random_genotype, fitness)\n",
    "    \n",
    "    def with_set_genotype(self, genotype: str):\n",
    "        fitness = self.fitness_evaluator.evaluate(genotype)\n",
    "        return Individual(genotype, fitness)\n",
    "    \n",
    "    def with_minimal_fitness(self):\n",
    "        minimal_fitness_genotype = self.binary_string_format.format(0)\n",
    "        fitness = self.fitness_evaluator.evaluate(minimal_fitness_genotype)\n",
    "        return Individual(minimal_fitness_genotype, fitness)"
   ]
  },
  {
   "cell_type": "code",
   "execution_count": 35,
   "metadata": {},
   "outputs": [],
   "source": [
    "class Population:\n",
    "    \n",
    "    def __init__(self, individuals):\n",
    "        self.individuals = individuals\n",
    "        \n",
    "    def get_the_fittest(self, n: int):\n",
    "        self.__sort_by_fitness()\n",
    "        return self.individuals[:n]\n",
    "        \n",
    "    def __sort_by_fitness(self):\n",
    "        self.individuals.sort(key = self.__individual_fitness_sort_key, reverse = True)\n",
    "    \n",
    "    def __individual_fitness_sort_key(self, individual: Individual):\n",
    "        return individual.fitness"
   ]
  },
  {
   "cell_type": "code",
   "execution_count": 36,
   "metadata": {},
   "outputs": [],
   "source": [
    "class PopulationFactory:\n",
    "    \n",
    "    def __init__(self, individual_factory: IndividualFactory):\n",
    "        self.individual_factory = individual_factory\n",
    "        \n",
    "    def with_random_individuals(self, size: int):\n",
    "        individuals = []\n",
    "        for i in range(size):\n",
    "            individuals.append(self.individual_factory.with_random_genotype())\n",
    "        return Population(individuals)\n",
    "    \n",
    "    def with_individuals(self, individuals):\n",
    "        return Population(individuals)\n",
    "    \n",
    "    def with_minimal_fitness_individuals(self, size: int):\n",
    "        individuals = []\n",
    "        for i in range(size):\n",
    "            individuals.append(self.individual_factory.with_minimal_fitness())\n",
    "        return Population(individuals)"
   ]
  },
  {
   "cell_type": "code",
   "execution_count": 37,
   "metadata": {},
   "outputs": [],
   "source": [
    "class ParentSelector:\n",
    "        \n",
    "    def select_parents(self, population: Population):\n",
    "        total_fitness = 0\n",
    "        fitness_scale = []\n",
    "        for index, individual in enumerate(population.individuals):\n",
    "            total_fitness += individual.fitness\n",
    "            if index == 0:\n",
    "                fitness_scale.append(individual.fitness)\n",
    "            else:\n",
    "                fitness_scale.append(individual.fitness + fitness_scale[index - 1])\n",
    "            \n",
    "        # Store the selected parents\n",
    "        mating_pool = []\n",
    "        # Equal to the size of the population\n",
    "        number_of_parents = len(population.individuals)\n",
    "        # How fast we move along the fitness scale\n",
    "        fitness_step = total_fitness / number_of_parents\n",
    "        random_offset = random.uniform(0, fitness_step)\n",
    "        \n",
    "        # Iterate over the parents size range and for each:\n",
    "        # - generate pointer position on the fitnss scale\n",
    "        # - pick the parent who corresponds to the current pointer position and add them to the mating pool\n",
    "        current_fitess_pointer = random_offset\n",
    "        last_fitness_scale_position = 0\n",
    "        for index in range(len(population.individuals)):\n",
    "            for fitness_scale_position in range(last_fitness_scale_position, len(fitness_scale)):\n",
    "                if fitness_scale[fitness_scale_position] >= current_fitess_pointer:\n",
    "                    mating_pool.append(population.individuals[fitness_scale_position])\n",
    "                    last_fitness_scale_position = fitness_scale_position\n",
    "                    break\n",
    "            current_fitess_pointer += fitness_step\n",
    "        \n",
    "        return mating_pool"
   ]
  },
  {
   "cell_type": "code",
   "execution_count": 38,
   "metadata": {},
   "outputs": [],
   "source": [
    "class SinglePointCrossover:\n",
    "    \n",
    "    def __init__(self, individual_factory: IndividualFactory):\n",
    "        self.individual_factory = individual_factory\n",
    "    \n",
    "    def crossover(self, parent_1: Individual, parent_2: Individual):\n",
    "        crossover_point = random.randint(0, len(parent_1.genotype))\n",
    "        genotype_1 = self.__new_genotype(crossover_point, parent_1, parent_2)\n",
    "        genotype_2 = self.__new_genotype(crossover_point, parent_2, parent_1)\n",
    "        child_1 = self.individual_factory.with_set_genotype(genotype = genotype_1)\n",
    "        child_2 = self.individual_factory.with_set_genotype(genotype = genotype_2)\n",
    "        return child_1, child_2\n",
    "    \n",
    "    def __new_genotype(self, crossover_point: int, parent_1: Individual, parent_2: Individual):\n",
    "        return parent_1.genotype[:crossover_point] + parent_2.genotype[crossover_point:]"
   ]
  },
  {
   "cell_type": "code",
   "execution_count": 39,
   "metadata": {},
   "outputs": [],
   "source": [
    "class Mutator:\n",
    "    \n",
    "    def __init__(self, individual_factory: IndividualFactory):\n",
    "        self.individual_factory = individual_factory\n",
    "        \n",
    "    def mutate(self, individual: Individual):\n",
    "        mutated_genotype = list(individual.genotype)\n",
    "        mutation_probability = 1 / len(individual.genotype)\n",
    "        for index, gene in enumerate(individual.genotype):\n",
    "            if random.random() < mutation_probability:\n",
    "                # print(\"Mutating gene \" + gene + \" at position \" + str(index) + \" of genotype \" + genotype)\n",
    "                mutated_genotype[index] = '0' if gene == '1' else '1' \n",
    "        return self.individual_factory.with_set_genotype(genotype = \"\".join(mutated_genotype))"
   ]
  },
  {
   "cell_type": "code",
   "execution_count": 40,
   "metadata": {},
   "outputs": [],
   "source": [
    "class Breeder:\n",
    "    \n",
    "    def __init__(self, \n",
    "                 single_point_crossover: SinglePointCrossover,\n",
    "                 mutator: Mutator):\n",
    "        self.single_point_crossover = single_point_crossover\n",
    "        self.mutator = mutator\n",
    "        \n",
    "    def produce_offspring(self, parents):\n",
    "        offspring = []\n",
    "        number_of_parents = len(parents)\n",
    "        for index in range(int(number_of_parents / 2)):\n",
    "            parent_1, parent_2 = self.__pick_random_parents(parents, number_of_parents)\n",
    "            child_1, child_2 = self.single_point_crossover.crossover(parent_1, parent_2)\n",
    "            child_1_mutated = mutator.mutate(child_1)\n",
    "            child_2_mutated = mutator.mutate(child_2)\n",
    "            offspring.extend((child_1_mutated, child_2_mutated))\n",
    "        \n",
    "        return offspring\n",
    "    \n",
    "    def __pick_random_parents(self, parents, number_of_parents: int):\n",
    "        parent_1 = parents[random.randint(0, number_of_parents - 1)]\n",
    "        parent_2 = parents[random.randint(0, number_of_parents - 1)]\n",
    "        return parent_1, parent_2"
   ]
  },
  {
   "cell_type": "code",
   "execution_count": 41,
   "metadata": {},
   "outputs": [],
   "source": [
    "class Environment:\n",
    "    \n",
    "    def __init__(self, \n",
    "                 population_size: int, \n",
    "                 parent_selector: ParentSelector, \n",
    "                 population_factory: PopulationFactory, \n",
    "                 breeder: Breeder):\n",
    "        self.population_factory = population_factory\n",
    "        # self.population = self.population_factory.with_minimal_fitness_individuals(size = population_size)\n",
    "        self.population = self.population_factory.with_random_individuals(size = population_size)\n",
    "        self.parent_selector = parent_selector\n",
    "        self.breeder = breeder\n",
    "    \n",
    "    def update(self):\n",
    "        parents = self.parent_selector.select_parents(self.population)\n",
    "        next_generation = breeder.produce_offspring(parents)\n",
    "        self.population = population_factory.with_individuals(next_generation)\n",
    "        \n",
    "    def get_the_fittest(self, n: int):\n",
    "        return self.population.get_the_fittest(n)"
   ]
  },
  {
   "cell_type": "code",
   "execution_count": 42,
   "metadata": {
    "scrolled": true
   },
   "outputs": [
    {
     "name": "stdout",
     "output_type": "stream",
     "text": [
      "Winner, winner, chicken dinner! We got there\n",
      "Stopped at generation 1892. The fittest individual: \n",
      "Individual/genotype = 11111111111111111111 Fitness = 1099509530625\n"
     ]
    },
    {
     "data": {
      "image/png": "[encoded data removed]",
      "text/plain": [
       "<Figure size 432x288 with 1 Axes>"
      ]
     },
     "metadata": {
      "needs_background": "light"
     },
     "output_type": "display_data"
    }
   ],
   "source": [
    "TOTAL_GENERATIONS = 10000\n",
    "POPULATION_SIZE = 50\n",
    "GENOTYPE_LENGTH = 20\n",
    "\n",
    "current_generation = 1\n",
    "\n",
    "genotype_decoder = GenotypeDecoder()\n",
    "fitness_evaluator = FitnessEvaluator(genotype_decoder)\n",
    "individual_factory = IndividualFactory(GENOTYPE_LENGTH, fitness_evaluator)\n",
    "population_factory = PopulationFactory(individual_factory)\n",
    "single_point_crossover = SinglePointCrossover(individual_factory)\n",
    "mutator = Mutator(individual_factory)\n",
    "breeder = Breeder(single_point_crossover, mutator)\n",
    "parent_selector = ParentSelector()\n",
    "environment = Environment(POPULATION_SIZE, \n",
    "                          parent_selector, \n",
    "                          population_factory, \n",
    "                          breeder)\n",
    "\n",
    "highest_fitness_list = []\n",
    "while current_generation <= TOTAL_GENERATIONS:\n",
    "    fittest = environment.get_the_fittest(1)[0]\n",
    "    highest_fitness_list.append(fittest.fitness)\n",
    "    if \"0\" not in fittest.genotype:\n",
    "        print(\"Winner, winner, chicken dinner! We got there\")\n",
    "        break\n",
    "    environment.update()\n",
    "    current_generation += 1\n",
    "\n",
    "print(\"Stopped at generation \" + str(current_generation - 1) + \". The fittest individual: \")\n",
    "print(fittest)\n",
    "\n",
    "import matplotlib.pyplot as plt\n",
    "\n",
    "generations = range(1, len(highest_fitness_list) + 1)\n",
    "plt.plot(generations, highest_fitness_list)\n",
    "plt.title('Fittest individual in each generation')\n",
    "plt.xlabel('Generation')\n",
    "plt.ylabel('Fitness')\n",
    "plt.show()"
   ]
  },
  {
   "cell_type": "code",
   "execution_count": null,
   "metadata": {},
   "outputs": [],
   "source": []
  }
 ],
 "metadata": {
  "kernelspec": {
   "display_name": "Python 3",
   "language": "python",
   "name": "python3"
  },
  "language_info": {
   "codemirror_mode": {
    "name": "ipython",
    "version": 3
   },
   "file_extension": ".py",
   "mimetype": "text/x-python",
   "name": "python",
   "nbconvert_exporter": "python",
   "pygments_lexer": "ipython3",
   "version": "3.8.5"
  }
 },
 "nbformat": 4,
 "nbformat_minor": 4
}
